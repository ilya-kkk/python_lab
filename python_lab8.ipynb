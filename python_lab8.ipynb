{
 "cells": [
  {
   "cell_type": "markdown",
   "id": "df774138-e39c-4610-a631-65329b284d8a",
   "metadata": {},
   "source": [
    "<h2>Лабораторная работа №8 Вариант 2</h2>"
   ]
  },
  {
   "cell_type": "markdown",
   "id": "2352da5a-62da-4415-8b7a-b3204010c62e",
   "metadata": {},
   "source": [
    "<h3>Возьмите приложенное изображение из папки images/variant-<номер варианта>.jpg/png и выполните его преобразование согласно вашему варианту. (Размытие по Гауссу)</h3>"
   ]
  },
  {
   "cell_type": "code",
   "execution_count": null,
   "id": "6293ccf7-0ec3-4fdf-9c19-1d4fb1c0a929",
   "metadata": {},
   "outputs": [
    {
     "name": "stderr",
     "output_type": "stream",
     "text": [
      "Warning: Ignoring XDG_SESSION_TYPE=wayland on Gnome. Use QT_QPA_PLATFORM=wayland to run on Wayland anyway.\n"
     ]
    }
   ],
   "source": [
    "import cv2\n",
    "\n",
    "# Загрузка изображения\n",
    "image = cv2.imread(\"variant-2.png\")\n",
    "\n",
    "# Проверка, удалось ли загрузить изображение\n",
    "if image is None:\n",
    "    print(\"Ошибка: не удалось загрузить изображение.\")\n",
    "else:\n",
    "    # Применение размытия по Гауссу (ядро 5x5)\n",
    "    blurred_image = cv2.GaussianBlur(image, (9, 9), 0)\n",
    "\n",
    "    # Отображение результата\n",
    "    cv2.imshow(\"Original Image\", image)\n",
    "    cv2.imshow(\"Gaussian Blurred Image\", blurred_image)\n",
    "\n",
    "    # Ожидание нажатия клавиши и закрытие окон\n",
    "    cv2.waitKey(0)\n",
    "    cv2.destroyAllWindows()\n"
   ]
  },
  {
   "cell_type": "markdown",
   "id": "a704e973-45c0-477e-8b71-9a33d758d7b0",
   "metadata": {},
   "source": [
    "<h3>Распечатайте изображение метки на листе бумаги и расместите его на поверхности. Используя камеру, захватите поверхность с меткой и реализуйте алгоритм её отслеживания.\n",
    "\n",
    "    \n",
    "Модифицируйте программу из п. 2, согласно вашему варианту. (Сделайте вывод координат метки в файл)</h3>"
   ]
  },
  {
   "cell_type": "code",
   "execution_count": 1,
   "id": "2d60dd74-5e4d-43fe-9be7-3940ded3be9c",
   "metadata": {},
   "outputs": [
    {
     "name": "stdout",
     "output_type": "stream",
     "text": [
      "[120 140  50]\n",
      "[160 180  90]\n"
     ]
    },
    {
     "name": "stderr",
     "output_type": "stream",
     "text": [
      "Warning: Ignoring XDG_SESSION_TYPE=wayland on Gnome. Use QT_QPA_PLATFORM=wayland to run on Wayland anyway.\n"
     ]
    },
    {
     "name": "stdout",
     "output_type": "stream",
     "text": [
      "Записано: 2025-04-02 17:00:31, x: 435, y: 345\n",
      "Записано: 2025-04-02 17:00:32, x: 137, y: 179\n",
      "Записано: 2025-04-02 17:00:33, x: 365, y: 275\n",
      "Записано: 2025-04-02 17:00:34, метка не найдена.\n",
      "Записано: 2025-04-02 17:00:35, x: 255, y: 178\n",
      "Записано: 2025-04-02 17:00:36, x: 58, y: 472\n",
      "Записано: 2025-04-02 17:00:37, метка не найдена.\n",
      "Записано: 2025-04-02 17:00:38, метка не найдена.\n",
      "Записано: 2025-04-02 17:00:39, x: 202, y: 3\n",
      "Записано: 2025-04-02 17:00:40, метка не найдена.\n",
      "Записано: 2025-04-02 17:00:41, метка не найдена.\n",
      "Записано: 2025-04-02 17:00:42, метка не найдена.\n",
      "Записано: 2025-04-02 17:00:43, метка не найдена.\n",
      "Записано: 2025-04-02 17:00:44, x: 290, y: 57\n",
      "Записано: 2025-04-02 17:00:45, x: 225, y: 58\n",
      "Записано: 2025-04-02 17:00:46, x: 105, y: 251\n",
      "Записано: 2025-04-02 17:00:47, метка не найдена.\n",
      "Записано: 2025-04-02 17:00:48, метка не найдена.\n",
      "Записано: 2025-04-02 17:00:49, метка не найдена.\n",
      "Записано: 2025-04-02 17:00:50, x: 382, y: 80\n",
      "Записано: 2025-04-02 17:00:51, x: 581, y: 76\n",
      "Записано: 2025-04-02 17:00:52, x: 616, y: 92\n",
      "Записано: 2025-04-02 17:00:53, x: 617, y: 77\n",
      "Записано: 2025-04-02 17:00:54, x: 619, y: 89\n",
      "Записано: 2025-04-02 17:00:55, x: 623, y: 77\n",
      "Записано: 2025-04-02 17:00:56, x: 609, y: 424\n",
      "Записано: 2025-04-02 17:00:57, x: 406, y: 413\n",
      "Записано: 2025-04-02 17:00:58, метка не найдена.\n",
      "Записано: 2025-04-02 17:00:59, x: 169, y: 402\n",
      "Записано: 2025-04-02 17:01:00, метка не найдена.\n",
      "Записано: 2025-04-02 17:01:01, x: 67, y: 296\n",
      "Записано: 2025-04-02 17:01:02, метка не найдена.\n",
      "Записано: 2025-04-02 17:01:03, x: 311, y: 431\n",
      "Записано: 2025-04-02 17:01:04, метка не найдена.\n",
      "Записано: 2025-04-02 17:01:05, метка не найдена.\n",
      "Записано: 2025-04-02 17:01:07, метка не найдена.\n",
      "Записано: 2025-04-02 17:01:08, метка не найдена.\n",
      "Записано: 2025-04-02 17:01:09, метка не найдена.\n",
      "Записано: 2025-04-02 17:01:10, метка не найдена.\n",
      "Записано: 2025-04-02 17:01:11, метка не найдена.\n",
      "Записано: 2025-04-02 17:01:12, метка не найдена.\n",
      "Записано: 2025-04-02 17:01:13, метка не найдена.\n"
     ]
    },
    {
     "ename": "KeyboardInterrupt",
     "evalue": "",
     "output_type": "error",
     "traceback": [
      "\u001b[31m---------------------------------------------------------------------------\u001b[39m",
      "\u001b[31mKeyboardInterrupt\u001b[39m                         Traceback (most recent call last)",
      "\u001b[36mCell\u001b[39m\u001b[36m \u001b[39m\u001b[32mIn[1]\u001b[39m\u001b[32m, line 26\u001b[39m\n\u001b[32m     23\u001b[39m last_record_time = time.time()\n\u001b[32m     25\u001b[39m \u001b[38;5;28;01mwhile\u001b[39;00m \u001b[38;5;28;01mTrue\u001b[39;00m:\n\u001b[32m---> \u001b[39m\u001b[32m26\u001b[39m     ret, frame = \u001b[43mcap\u001b[49m\u001b[43m.\u001b[49m\u001b[43mread\u001b[49m\u001b[43m(\u001b[49m\u001b[43m)\u001b[49m\n\u001b[32m     27\u001b[39m     \u001b[38;5;28;01mif\u001b[39;00m \u001b[38;5;129;01mnot\u001b[39;00m ret:\n\u001b[32m     28\u001b[39m         \u001b[38;5;28mprint\u001b[39m(\u001b[33m\"\u001b[39m\u001b[33mНе удалось получить кадр с камеры. Выход...\u001b[39m\u001b[33m\"\u001b[39m)\n",
      "\u001b[31mKeyboardInterrupt\u001b[39m: "
     ]
    }
   ],
   "source": [
    "import cv2\n",
    "import numpy as np\n",
    "import csv\n",
    "import time\n",
    "from datetime import datetime\n",
    "\n",
    "cap = cv2.VideoCapture(0)\n",
    "if not cap.isOpened():\n",
    "    print(\"Не удалось открыть камеру\")\n",
    "    exit()\n",
    "\n",
    "color = [140, 160, 70]\n",
    "disp = 20\n",
    "lower_color = np.array(list(map(lambda x: x - disp, color)))\n",
    "upper_color = np.array(list(map(lambda x: x + disp, color)))\n",
    "print(lower_color)\n",
    "print(upper_color)\n",
    "\n",
    "csv_file = open('marker_coordinates.csv', mode='w', newline='')\n",
    "csv_writer = csv.writer(csv_file)\n",
    "csv_writer.writerow(['timestamp', 'x', 'y'])  # Заголовок\n",
    "\n",
    "last_record_time = time.time()\n",
    "\n",
    "while True:\n",
    "    ret, frame = cap.read()\n",
    "    if not ret:\n",
    "        print(\"Не удалось получить кадр с камеры. Выход...\")\n",
    "        break\n",
    "\n",
    "    image_rgb = cv2.cvtColor(frame, cv2.COLOR_BGR2RGB)\n",
    "    mask = cv2.inRange(image_rgb, lower_color, upper_color)\n",
    "    \n",
    "    kernel = np.ones((5,5), np.uint8)\n",
    "    mask = cv2.morphologyEx(mask, cv2.MORPH_OPEN, kernel)\n",
    "    mask = cv2.morphologyEx(mask, cv2.MORPH_CLOSE, kernel)\n",
    "\n",
    "    contours, _ = cv2.findContours(mask, cv2.RETR_EXTERNAL, cv2.CHAIN_APPROX_SIMPLE)\n",
    "\n",
    "    cx, cy = None, None \n",
    "    if contours:\n",
    "        largest_contour = max(contours, key=cv2.contourArea)\n",
    "        M = cv2.moments(largest_contour)\n",
    "        if M[\"m00\"] != 0:\n",
    "            cx = int(M[\"m10\"] / M[\"m00\"])\n",
    "            cy = int(M[\"m01\"] / M[\"m00\"])\n",
    "            cv2.circle(frame, (cx, cy), 5, (0, 255, 0), -1)\n",
    "\n",
    "    cv2.imshow('Segmented Frame', frame)\n",
    "    \n",
    "    current_time = time.time()\n",
    "    if current_time - last_record_time >= 1:\n",
    "        last_record_time = current_time\n",
    "        timestamp = datetime.now().strftime(\"%Y-%m-%d %H:%M:%S\")\n",
    "        if cx is not None and cy is not None:\n",
    "            csv_writer.writerow([timestamp, cx, cy])\n",
    "            print(f\"Записано: {timestamp}, x: {cx}, y: {cy}\")\n",
    "        else:\n",
    "            csv_writer.writerow([timestamp, 'None', 'None'])\n",
    "            print(f\"Записано: {timestamp}, метка не найдена.\")\n",
    "\n",
    "    if cv2.waitKey(1) & 0xFF == ord('q'):\n",
    "        break\n",
    "\n",
    "cap.release()\n",
    "cv2.destroyAllWindows()\n",
    "csv_file.close()\n"
   ]
  },
  {
   "cell_type": "code",
   "execution_count": null,
   "id": "a89374e7-a7aa-4b9c-9b4e-ea6540185b89",
   "metadata": {},
   "outputs": [],
   "source": []
  }
 ],
 "metadata": {
  "kernelspec": {
   "display_name": "Python (myenv)",
   "language": "python",
   "name": "myenv"
  },
  "language_info": {
   "codemirror_mode": {
    "name": "ipython",
    "version": 3
   },
   "file_extension": ".py",
   "mimetype": "text/x-python",
   "name": "python",
   "nbconvert_exporter": "python",
   "pygments_lexer": "ipython3",
   "version": "3.12.3"
  }
 },
 "nbformat": 4,
 "nbformat_minor": 5
}
