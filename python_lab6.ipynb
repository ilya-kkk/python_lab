{
 "cells": [
  {
   "cell_type": "markdown",
   "id": "8f847791-e6ec-4de6-838a-4f802c5dcafd",
   "metadata": {},
   "source": [
    "<h2>Лабораторная работа №6 Вариант 2</h2>"
   ]
  },
  {
   "cell_type": "markdown",
   "id": "3b4f0e1b-438d-406f-affa-7f37cd4953b0",
   "metadata": {},
   "source": [
    "<h3>Задание\n",
    "\n",
    "Создать класс с полями, в котором реализовать инициализатор и метод обработки данных.\n",
    "Спроектировать иерархию классов от изначально написаного класса, используя наследование. Дописать как минимум одно уникальное поле для каждого класса.\n",
    "В классах-наследниках реализовать метод обработки данных.\n",
    "\n",
    "    Вариант 2\n",
    "Класс и его поля: Станок - производительность (изделий в час), стоимость станка, средняя цена детали\n",
    "Метод 1: количество деталей для окупаемости\n",
    "Иерархия: фрезерный станок, станок с ЧПУ\n",
    "Метод 2: время окупаемости станка при фиксированной цене детали\n",
    "</h3>"
   ]
  },
  {
   "cell_type": "code",
   "execution_count": 2,
   "id": "b305e282-d8cb-4717-9eea-44f964cd5e7a",
   "metadata": {},
   "outputs": [
    {
     "name": "stdout",
     "output_type": "stream",
     "text": [
      "Количество деталей для окупаемости фрезерного станка: 16.666666666666668\n",
      "Время окупаемости фрезерного станка: 6.0 часов\n",
      "Время окупаемости станка с ЧПУ: 5.0 часов\n"
     ]
    }
   ],
   "source": [
    "class Stanko:\n",
    "    def __init__(self, productivity, cost, avg_price):\n",
    "        self.productivity = productivity \n",
    "        self.cost = cost \n",
    "        self.avg_price = avg_price  \n",
    "    \n",
    "    def details_to_break_even(self):\n",
    "        return self.cost / self.avg_price\n",
    "\n",
    "    def break_even_time(self, fixed_detail_price):\n",
    "        return self.cost / (self.productivity * fixed_detail_price)\n",
    "\n",
    "\n",
    "class FrezernyStanko(Stanko):\n",
    "    def __init__(self, productivity, cost, avg_price, tool_change_time):\n",
    "        super().__init__(productivity, cost, avg_price)\n",
    "        self.tool_change_time = tool_change_time  \n",
    "    \n",
    "    def break_even_time(self, fixed_detail_price):\n",
    "        time_without_tool_change = super().break_even_time(fixed_detail_price)\n",
    "        return time_without_tool_change + self.tool_change_time\n",
    "\n",
    "\n",
    "class StankoCNC(Stanko):\n",
    "    def __init__(self, productivity, cost, avg_price, software_cost):\n",
    "        super().__init__(productivity, cost, avg_price)\n",
    "        self.software_cost = software_cost  \n",
    "    \n",
    "    def break_even_time(self, fixed_detail_price):\n",
    "        time_without_software_cost = super().break_even_time(fixed_detail_price)\n",
    "        return time_without_software_cost + self.software_cost / fixed_detail_price\n",
    "\n",
    "\n",
    "frezerny_stanko = FrezernyStanko(10, 5000, 300, 5)\n",
    "cnc_stanko = StankoCNC(20, 10000, 400, 2000)\n",
    "\n",
    "print(f\"Количество деталей для окупаемости фрезерного станка: {frezerny_stanko.details_to_break_even()}\")\n",
    "\n",
    "fixed_price = 500\n",
    "print(f\"Время окупаемости фрезерного станка: {frezerny_stanko.break_even_time(fixed_price)} часов\")\n",
    "print(f\"Время окупаемости станка с ЧПУ: {cnc_stanko.break_even_time(fixed_price)} часов\")\n"
   ]
  },
  {
   "cell_type": "code",
   "execution_count": null,
   "id": "8b3c85ee-3826-4bf7-bce0-eb51e8c7d8d8",
   "metadata": {},
   "outputs": [],
   "source": []
  }
 ],
 "metadata": {
  "kernelspec": {
   "display_name": "Python (myenv)",
   "language": "python",
   "name": "myenv"
  },
  "language_info": {
   "codemirror_mode": {
    "name": "ipython",
    "version": 3
   },
   "file_extension": ".py",
   "mimetype": "text/x-python",
   "name": "python",
   "nbconvert_exporter": "python",
   "pygments_lexer": "ipython3",
   "version": "3.12.3"
  }
 },
 "nbformat": 4,
 "nbformat_minor": 5
}
