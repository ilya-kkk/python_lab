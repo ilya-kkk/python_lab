{
 "cells": [
  {
   "cell_type": "markdown",
   "id": "e08c43d1-42f6-480c-86e2-009ce9c9bd37",
   "metadata": {},
   "source": [
    "<h2>Лабораторная работа №4 Вариант 2</h2>"
   ]
  },
  {
   "cell_type": "code",
   "execution_count": 3,
   "id": "9db28ac6-000e-4379-822a-05c938254680",
   "metadata": {},
   "outputs": [
    {
     "name": "stdout",
     "output_type": "stream",
     "text": [
      "['i', 'm']\n",
      "['k', 't', 'f']\n",
      "['d', 's']\n",
      "Итоговые очки выживания: 110\n"
     ]
    }
   ],
   "source": [
    "items = [\n",
    "    {\"name\": \"Винтовка (rifle)\", \"abbreviation\": \"r\", \"size\": 3, \"survival_points\": 25},\n",
    "    {\"name\": \"Пистолет (pistol)\", \"abbreviation\": \"p\", \"size\": 2, \"survival_points\": 15},\n",
    "    {\"name\": \"Боекомплект (ammo)\", \"abbreviation\": \"a\", \"size\": 2, \"survival_points\": 15},\n",
    "    {\"name\": \"Аптечка (medkit)\", \"abbreviation\": \"m\", \"size\": 2, \"survival_points\": 20},\n",
    "    {\"name\": \"Ингалятор (inhaler)\", \"abbreviation\": \"i\", \"size\": 1, \"survival_points\": 5},\n",
    "    {\"name\": \"Нож (knife)\", \"abbreviation\": \"k\", \"size\": 1, \"survival_points\": 15},\n",
    "    {\"name\": \"Топор (axe)\", \"abbreviation\": \"x\", \"size\": 3, \"survival_points\": 20},\n",
    "    {\"name\": \"Оберег (talisman)\", \"abbreviation\": \"t\", \"size\": 1, \"survival_points\": 25},\n",
    "    {\"name\": \"Фляжка (flask)\", \"abbreviation\": \"f\", \"size\": 1, \"survival_points\": 15},\n",
    "    {\"name\": \"Антидот (antidot)\", \"abbreviation\": \"d\", \"size\": 1, \"survival_points\": 10},\n",
    "    {\"name\": \"Еда (supplies)\", \"abbreviation\": \"s\", \"size\": 2, \"survival_points\": 20},\n",
    "    {\"name\": \"Арбалет (crossbow)\", \"abbreviation\": \"c\", \"size\": 2, \"survival_points\": 20},\n",
    "]\n",
    "\n",
    "max_size = 9\n",
    "mandatory_items = [{\"abbreviation\": \"i\", \"size\": 1, \"survival_points\": 5}]\n",
    "items = [item for item in items if item[\"abbreviation\"] not in [\"i\"]]\n",
    "remaining_size = max_size - sum(item[\"size\"] for item in mandatory_items)\n",
    "\n",
    "dp = [0] * (remaining_size + 1)\n",
    "chosen_items = [[] for _ in range(remaining_size + 1)]\n",
    "\n",
    "for item in items:\n",
    "    for i in range(remaining_size, item[\"size\"] - 1, -1):\n",
    "        if dp[i - item[\"size\"]] + item[\"survival_points\"] > dp[i]:\n",
    "            dp[i] = dp[i - item[\"size\"]] + item[\"survival_points\"]\n",
    "            chosen_items[i] = chosen_items[i - item[\"size\"]][:] + [item[\"abbreviation\"]]\n",
    "\n",
    "total_survival_points = dp[remaining_size] + sum(item[\"survival_points\"] for item in mandatory_items)\n",
    "final_items = mandatory_items + [item for item in items if item[\"abbreviation\"] in chosen_items[remaining_size]]\n",
    "\n",
    "inventory = []\n",
    "inventory_row = []\n",
    "current_size = 0\n",
    "for item in final_items:\n",
    "    inventory_row.append(item[\"abbreviation\"])\n",
    "    current_size += item[\"size\"]\n",
    "    if current_size >= 3:  \n",
    "        inventory.append(inventory_row)\n",
    "        inventory_row = []\n",
    "        current_size = 0\n",
    "if inventory_row:  \n",
    "    inventory.append(inventory_row)\n",
    "\n",
    "\n",
    "for row in inventory:\n",
    "    print(row)\n",
    "\n",
    "print(f\"Итоговые очки выживания: {total_survival_points}\")\n"
   ]
  },
  {
   "cell_type": "code",
   "execution_count": null,
   "id": "e9fde251-58c3-4fb0-9f18-7ba7501a932c",
   "metadata": {},
   "outputs": [],
   "source": []
  }
 ],
 "metadata": {
  "kernelspec": {
   "display_name": "Python (myenv)",
   "language": "python",
   "name": "myenv"
  },
  "language_info": {
   "codemirror_mode": {
    "name": "ipython",
    "version": 3
   },
   "file_extension": ".py",
   "mimetype": "text/x-python",
   "name": "python",
   "nbconvert_exporter": "python",
   "pygments_lexer": "ipython3",
   "version": "3.12.3"
  }
 },
 "nbformat": 4,
 "nbformat_minor": 5
}
