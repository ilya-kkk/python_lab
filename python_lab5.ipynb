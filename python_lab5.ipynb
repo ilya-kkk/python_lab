{
 "cells": [
  {
   "cell_type": "markdown",
   "id": "e16c549b-7cc6-49e9-a404-c076849fe6b5",
   "metadata": {},
   "source": [
    "<h2>Лабораторная работа №5 Вариант 2 </h2>"
   ]
  },
  {
   "cell_type": "markdown",
   "id": "5c68a346-aff2-4cb8-8863-57f8f6cdc15c",
   "metadata": {},
   "source": [
    "<h3>Задание 1. Откройте файл task1_ru.txt или task1_en.txt. Используя регулярные выражения, выполните задание для своего вариата из списка ниже:\n",
    "    \n",
    "Вариант 2. Все слова, начинающиеся с большой буквы; все слова, после которых стоит двоеточие.</h3>"
   ]
  },
  {
   "cell_type": "code",
   "execution_count": 4,
   "id": "7746973f-59d7-4820-b33a-8c7847b45793",
   "metadata": {},
   "outputs": [
    {
     "name": "stdout",
     "output_type": "stream",
     "text": [
      "Все слова, начинающиеся с большой буквы:\n",
      "['Введение', 'Точностные', 'Основным', 'При', 'В', 'В', 'Зуб', 'Параметры', 'Расчет', 'Зубчатые', 'Формулы', 'Кинематическая', 'Передачи', 'Допуски', 'М', 'Изд', 'Основные', 'Передачи', 'Допуски', 'М', 'Изд', 'Стандартов', 'Б', 'П', 'Тимофеев', 'Н', 'Т', 'Данг', 'Т', 'Fi', 'F', 'F', 'Fi', 'Кинематическая', 'Fi', 'F', 'Fpi', 'Допуск', 'Поскольку', 'Fpi', 'Fp', 'Fi', 'Fpi', 'Таким', 'F', 'F', 'F', 'Положим', 'F', 'F', 'F', 'Согласно', 'Методика', 'Суть', 'Иными', 'Кинематическая', 'При', 'Для', 'На', 'Выбирается', 'Все', 'Затем', 'Ведомое', 'При', 'Сравнение', 'Метод', 'Т', 'При', 'T', 'При', 'Т', 'F', 'F', 'F', 'Если', 'T', 'Если', 'T', 'При', 'Представленная', 'Предлагаемая', 'Результат', 'На', 'Результаты', 'Вид', 'Приведены', 'На', 'В', 'На', 'Т', 'Т', 'Т', 'Т', 'Это', 'Для', 'F', 'F', 'F', 'Здесь', 'Fi', 'В', 'Выводы', 'При', 'Fi', 'Вариант', 'При', 'При', 'Вариант', 'Согласно', 'Согласно', 'Эффект']\n",
      "\n",
      "Все слова, после которых стоит двоеточие:\n",
      "['диапазоне', 'число', 'передачи', '81', 'колеса', 'сборки', 'шестерни', 'виде', 'случаев', 'числа', 'передачи', '81', 'одинаков', 'погрешностей']\n"
     ]
    }
   ],
   "source": [
    "import re\n",
    "\n",
    "file_path = 'task1-ru.txt' \n",
    "with open(file_path, 'r', encoding='utf-8') as file:\n",
    "    text = file.read()\n",
    "\n",
    "capitalized_words = re.findall(r'\\b[A-ZА-ЯЁ][a-zа-яё]*\\b', text)\n",
    "words_with_colon = re.findall(r'\\b\\w+(?=:)', text)\n",
    "\n",
    "print(\"Все слова, начинающиеся с большой буквы:\")\n",
    "print(capitalized_words)\n",
    "\n",
    "print(\"\\nВсе слова, после которых стоит двоеточие:\")\n",
    "print(words_with_colon)\n"
   ]
  },
  {
   "cell_type": "markdown",
   "id": "92e063ca-1ef8-4c5a-b14a-2850dced3586",
   "metadata": {},
   "source": [
    "<h3>Задание 2. Откройте файл task2.html. Используя регулярные выражения, выполните задание для своего вариата из списка ниже:\n",
    "\n",
    "Вариант 2. Все закрывающие теги без повторений.</h3>"
   ]
  },
  {
   "cell_type": "code",
   "execution_count": 6,
   "id": "642e3ffe-9875-43c5-ad30-56ab054b28b0",
   "metadata": {},
   "outputs": [
    {
     "name": "stdout",
     "output_type": "stream",
     "text": [
      "Все уникальные закрывающие теги:\n",
      "a\n",
      "article\n",
      "body\n",
      "button\n",
      "div\n",
      "em\n",
      "fieldset\n",
      "figure\n",
      "form\n",
      "h1\n",
      "h2\n",
      "head\n",
      "header\n",
      "html\n",
      "label\n",
      "legend\n",
      "li\n",
      "main\n",
      "nav\n",
      "noscript\n",
      "p\n",
      "path\n",
      "script\n",
      "section\n",
      "span\n",
      "strong\n",
      "style\n",
      "svg\n",
      "time\n",
      "title\n",
      "u\n",
      "ul\n",
      "use\n"
     ]
    }
   ],
   "source": [
    "file_path = 'task2.html'  \n",
    "with open(file_path, 'r', encoding='utf-8') as file:\n",
    "    html_content = file.read()\n",
    "\n",
    "closing_tags = re.findall(r'</([a-zA-Z0-9]+)>', html_content)\n",
    "unique_closing_tags = set(closing_tags)\n",
    "\n",
    "print(\"Все уникальные закрывающие теги:\")\n",
    "for tag in sorted(unique_closing_tags):\n",
    "    print(tag)\n"
   ]
  },
  {
   "cell_type": "markdown",
   "id": "b1fd62dd-1335-427f-8a00-36ed0e3089f8",
   "metadata": {},
   "source": [
    "<h3>Задание 3. Откройте файл task3.txt. Здесь содержится таблица, состоящая из 5 полей: ID, фамилия, электронная почта, дата регистрации и сайт. Вот только пользователи вносили эти данные в абсолютно своём порядке, вследствие чего все данные перепутаны. Приведите эту базу данных в нормальный вид, расположив данные в вышеуказанном порядке. Для этого при помощи регулярных выражений выделите из файла данные каждого вида, составьте из них таблицу и сохраните как файл формата csv</h3>"
   ]
  },
  {
   "cell_type": "code",
   "execution_count": 10,
   "id": "040472a2-0c75-477a-ba4a-5f054c9bd48b",
   "metadata": {},
   "outputs": [
    {
     "name": "stdout",
     "output_type": "stream",
     "text": [
      "Данные успешно сохранены в файл output.csv.\n"
     ]
    }
   ],
   "source": [
    "import csv\n",
    "\n",
    "with open('task3.txt', 'r', encoding='utf-8') as file:\n",
    "    content = file.read()\n",
    "\n",
    "id_pattern = r\"\\b\\d{1,5}\\b\"\n",
    "surname_pattern = r\"\\b[A-Za-zА-Яа-я]+(?:\\s[A-Za-zА-Яа-я]+)?\\b\"  \n",
    "email_pattern = r\"[a-zA-Z0-9._%+-]+@[a-zA-Z0-9.-]+\\.[a-zA-Z]{2,}\"  \n",
    "date_pattern = r\"\\d{4}-\\d{2}-\\d{2}\" \n",
    "site_pattern = r\"https?://[^\\s/$.?#].[^\\s]*\"  \n",
    "\n",
    "ids = re.findall(id_pattern, content)\n",
    "surnames = re.findall(surname_pattern, content)\n",
    "emails = re.findall(email_pattern, content)\n",
    "dates = re.findall(date_pattern, content)\n",
    "sites = re.findall(site_pattern, content)\n",
    "\n",
    "data = []\n",
    "for i in range(len(ids)):\n",
    "    data.append([ids[i], surnames[i] if i < len(surnames) else \"\", emails[i] if i < len(emails) else \"\",\n",
    "                 dates[i] if i < len(dates) else \"\", sites[i] if i < len(sites) else \"\"])\n",
    "\n",
    "with open('output.csv', 'w', newline='', encoding='utf-8') as csvfile:\n",
    "    writer = csv.writer(csvfile)\n",
    "    writer.writerow(['ID', 'Фамилия', 'Электронная почта', 'Дата регистрации', 'Сайт'])  \n",
    "    writer.writerows(data)\n",
    "\n",
    "print(\"Данные успешно сохранены в файл output.csv.\")\n"
   ]
  },
  {
   "cell_type": "markdown",
   "id": "2a4f0bc4-3e82-4fd0-8817-9f23e4bd07b5",
   "metadata": {},
   "source": [
    "ID,Фамилия,Электронная почта,Дата регистрации,Сайт\n",
    "\n",
    "2020,urangel,urangel@espinoza-francis.net,2020-08-26,http://www.escobar.org/\n",
    "\n",
    "08,espinoza,xreese@hall-donovan.com,2020-04-27,https://tyler-pugh.info/\n",
    "\n",
    ". . ."
   ]
  },
  {
   "cell_type": "code",
   "execution_count": null,
   "id": "f17d7eee-0c35-49ce-9a50-1175abe65d13",
   "metadata": {},
   "outputs": [],
   "source": []
  }
 ],
 "metadata": {
  "kernelspec": {
   "display_name": "Python (myenv)",
   "language": "python",
   "name": "myenv"
  },
  "language_info": {
   "codemirror_mode": {
    "name": "ipython",
    "version": 3
   },
   "file_extension": ".py",
   "mimetype": "text/x-python",
   "name": "python",
   "nbconvert_exporter": "python",
   "pygments_lexer": "ipython3",
   "version": "3.12.3"
  }
 },
 "nbformat": 4,
 "nbformat_minor": 5
}
