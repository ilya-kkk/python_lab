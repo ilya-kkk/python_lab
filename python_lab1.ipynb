{
 "cells": [
  {
   "cell_type": "markdown",
   "id": "a1b81f4c",
   "metadata": {},
   "source": [
    "<h2>Лабораторная работа №1 Вариант 2</h2>"
   ]
  },
  {
   "cell_type": "markdown",
   "id": "3e06f97e",
   "metadata": {},
   "source": [
    "<h3>Сгенерировать при помощи escape-символов в консоли изображение флага, соответственно варианту (Бангладеш).</h3>"
   ]
  },
  {
   "cell_type": "code",
   "execution_count": 5,
   "id": "5db01241",
   "metadata": {},
   "outputs": [
    {
     "name": "stdout",
     "output_type": "stream",
     "text": [
      "\u001b[42m  \u001b[0m\u001b[42m  \u001b[0m\u001b[42m  \u001b[0m\u001b[42m  \u001b[0m\u001b[42m  \u001b[0m\u001b[42m  \u001b[0m\u001b[42m  \u001b[0m\u001b[42m  \u001b[0m\u001b[42m  \u001b[0m\u001b[42m  \u001b[0m\u001b[42m  \u001b[0m\u001b[42m  \u001b[0m\u001b[42m  \u001b[0m\u001b[42m  \u001b[0m\u001b[42m  \u001b[0m\u001b[42m  \u001b[0m\u001b[42m  \u001b[0m\u001b[42m  \u001b[0m\u001b[42m  \u001b[0m\u001b[42m  \u001b[0m\n",
      "\u001b[42m  \u001b[0m\u001b[42m  \u001b[0m\u001b[42m  \u001b[0m\u001b[42m  \u001b[0m\u001b[42m  \u001b[0m\u001b[42m  \u001b[0m\u001b[42m  \u001b[0m\u001b[42m  \u001b[0m\u001b[42m  \u001b[0m\u001b[42m  \u001b[0m\u001b[42m  \u001b[0m\u001b[42m  \u001b[0m\u001b[42m  \u001b[0m\u001b[42m  \u001b[0m\u001b[42m  \u001b[0m\u001b[42m  \u001b[0m\u001b[42m  \u001b[0m\u001b[42m  \u001b[0m\u001b[42m  \u001b[0m\u001b[42m  \u001b[0m\n",
      "\u001b[42m  \u001b[0m\u001b[42m  \u001b[0m\u001b[42m  \u001b[0m\u001b[42m  \u001b[0m\u001b[42m  \u001b[0m\u001b[42m  \u001b[0m\u001b[42m  \u001b[0m\u001b[42m  \u001b[0m\u001b[42m  \u001b[0m\u001b[42m  \u001b[0m\u001b[42m  \u001b[0m\u001b[42m  \u001b[0m\u001b[42m  \u001b[0m\u001b[42m  \u001b[0m\u001b[42m  \u001b[0m\u001b[42m  \u001b[0m\u001b[42m  \u001b[0m\u001b[42m  \u001b[0m\u001b[42m  \u001b[0m\u001b[42m  \u001b[0m\n",
      "\u001b[42m  \u001b[0m\u001b[42m  \u001b[0m\u001b[42m  \u001b[0m\u001b[42m  \u001b[0m\u001b[42m  \u001b[0m\u001b[42m  \u001b[0m\u001b[42m  \u001b[0m\u001b[42m  \u001b[0m\u001b[41m  \u001b[0m\u001b[41m  \u001b[0m\u001b[41m  \u001b[0m\u001b[41m  \u001b[0m\u001b[41m  \u001b[0m\u001b[42m  \u001b[0m\u001b[42m  \u001b[0m\u001b[42m  \u001b[0m\u001b[42m  \u001b[0m\u001b[42m  \u001b[0m\u001b[42m  \u001b[0m\u001b[42m  \u001b[0m\n",
      "\u001b[42m  \u001b[0m\u001b[42m  \u001b[0m\u001b[42m  \u001b[0m\u001b[42m  \u001b[0m\u001b[42m  \u001b[0m\u001b[42m  \u001b[0m\u001b[42m  \u001b[0m\u001b[41m  \u001b[0m\u001b[41m  \u001b[0m\u001b[41m  \u001b[0m\u001b[41m  \u001b[0m\u001b[41m  \u001b[0m\u001b[41m  \u001b[0m\u001b[41m  \u001b[0m\u001b[42m  \u001b[0m\u001b[42m  \u001b[0m\u001b[42m  \u001b[0m\u001b[42m  \u001b[0m\u001b[42m  \u001b[0m\u001b[42m  \u001b[0m\n",
      "\u001b[42m  \u001b[0m\u001b[42m  \u001b[0m\u001b[42m  \u001b[0m\u001b[42m  \u001b[0m\u001b[42m  \u001b[0m\u001b[42m  \u001b[0m\u001b[42m  \u001b[0m\u001b[41m  \u001b[0m\u001b[41m  \u001b[0m\u001b[41m  \u001b[0m\u001b[41m  \u001b[0m\u001b[41m  \u001b[0m\u001b[41m  \u001b[0m\u001b[41m  \u001b[0m\u001b[42m  \u001b[0m\u001b[42m  \u001b[0m\u001b[42m  \u001b[0m\u001b[42m  \u001b[0m\u001b[42m  \u001b[0m\u001b[42m  \u001b[0m\n",
      "\u001b[42m  \u001b[0m\u001b[42m  \u001b[0m\u001b[42m  \u001b[0m\u001b[42m  \u001b[0m\u001b[42m  \u001b[0m\u001b[42m  \u001b[0m\u001b[42m  \u001b[0m\u001b[41m  \u001b[0m\u001b[41m  \u001b[0m\u001b[41m  \u001b[0m\u001b[41m  \u001b[0m\u001b[41m  \u001b[0m\u001b[41m  \u001b[0m\u001b[41m  \u001b[0m\u001b[42m  \u001b[0m\u001b[42m  \u001b[0m\u001b[42m  \u001b[0m\u001b[42m  \u001b[0m\u001b[42m  \u001b[0m\u001b[42m  \u001b[0m\n",
      "\u001b[42m  \u001b[0m\u001b[42m  \u001b[0m\u001b[42m  \u001b[0m\u001b[42m  \u001b[0m\u001b[42m  \u001b[0m\u001b[42m  \u001b[0m\u001b[42m  \u001b[0m\u001b[42m  \u001b[0m\u001b[41m  \u001b[0m\u001b[41m  \u001b[0m\u001b[41m  \u001b[0m\u001b[41m  \u001b[0m\u001b[41m  \u001b[0m\u001b[42m  \u001b[0m\u001b[42m  \u001b[0m\u001b[42m  \u001b[0m\u001b[42m  \u001b[0m\u001b[42m  \u001b[0m\u001b[42m  \u001b[0m\u001b[42m  \u001b[0m\n",
      "\u001b[42m  \u001b[0m\u001b[42m  \u001b[0m\u001b[42m  \u001b[0m\u001b[42m  \u001b[0m\u001b[42m  \u001b[0m\u001b[42m  \u001b[0m\u001b[42m  \u001b[0m\u001b[42m  \u001b[0m\u001b[42m  \u001b[0m\u001b[42m  \u001b[0m\u001b[42m  \u001b[0m\u001b[42m  \u001b[0m\u001b[42m  \u001b[0m\u001b[42m  \u001b[0m\u001b[42m  \u001b[0m\u001b[42m  \u001b[0m\u001b[42m  \u001b[0m\u001b[42m  \u001b[0m\u001b[42m  \u001b[0m\u001b[42m  \u001b[0m\n",
      "\u001b[42m  \u001b[0m\u001b[42m  \u001b[0m\u001b[42m  \u001b[0m\u001b[42m  \u001b[0m\u001b[42m  \u001b[0m\u001b[42m  \u001b[0m\u001b[42m  \u001b[0m\u001b[42m  \u001b[0m\u001b[42m  \u001b[0m\u001b[42m  \u001b[0m\u001b[42m  \u001b[0m\u001b[42m  \u001b[0m\u001b[42m  \u001b[0m\u001b[42m  \u001b[0m\u001b[42m  \u001b[0m\u001b[42m  \u001b[0m\u001b[42m  \u001b[0m\u001b[42m  \u001b[0m\u001b[42m  \u001b[0m\u001b[42m  \u001b[0m\n"
     ]
    }
   ],
   "source": [
    "green = \"\\033[42m\"  # Зелёный фон\n",
    "red = \"\\033[41m\"  # Красный фон\n",
    "reset = \"\\033[0m\"  # Сброс цвета\n",
    "\n",
    "flag_width = 20\n",
    "flag_height = 10\n",
    "circle_radius_x = 4  # Горизонтальный радиус круга\n",
    "circle_radius_y = 3  # Вертикальный радиус круга (из-за консольных искажений)\n",
    "circle_center = (flag_height // 2, flag_width // 2)\n",
    "\n",
    "for i in range(flag_height):\n",
    "    for j in range(flag_width):\n",
    "        # Используем эллиптическое уравнение для корректного круга\n",
    "        distance = ((i - circle_center[0]) / circle_radius_y) ** 2 + ((j - circle_center[1]) / circle_radius_x) ** 2\n",
    "        if distance < 1:\n",
    "            print(f\"{red}  {reset}\", end=\"\")\n",
    "        else:\n",
    "            print(f\"{green}  {reset}\", end=\"\")\n",
    "    print()\n"
   ]
  },
  {
   "cell_type": "markdown",
   "id": "ebef754e",
   "metadata": {},
   "source": [
    "<h3>Сгенерировать в консоли повторяющийся узор (узор b).</h3>"
   ]
  },
  {
   "cell_type": "code",
   "execution_count": 10,
   "id": "b176730b",
   "metadata": {},
   "outputs": [
    {
     "name": "stdout",
     "output_type": "stream",
     "text": [
      "████ ████ ████ ████ ████ ████ ████ ████ ████ ████ \n",
      "█  █ █  █ █  █ █  █ █  █ █  █ █  █ █  █ █  █ █  █ \n",
      "█ ██ █ ██ █ ██ █ ██ █ ██ █ ██ █ ██ █ ██ █ ██ █ ██ \n",
      "█ █  █ █  █ █  █ █  █ █  █ █  █ █  █ █  █ █  █ █  \n",
      "█ ████ ████ ████ ████ ████ ████ ████ ████ ████ ███\n",
      "████ ████ ████ ████ ████ ████ ████ ████ ████ ████ \n",
      "█  █ █  █ █  █ █  █ █  █ █  █ █  █ █  █ █  █ █  █ \n",
      "█ ██ █ ██ █ ██ █ ██ █ ██ █ ██ █ ██ █ ██ █ ██ █ ██ \n",
      "█ █  █ █  █ █  █ █  █ █  █ █  █ █  █ █  █ █  █ █  \n",
      "█ ████ ████ ████ ████ ████ ████ ████ ████ ████ ███\n",
      "████ ████ ████ ████ ████ ████ ████ ████ ████ ████ \n",
      "█  █ █  █ █  █ █  █ █  █ █  █ █  █ █  █ █  █ █  █ \n",
      "█ ██ █ ██ █ ██ █ ██ █ ██ █ ██ █ ██ █ ██ █ ██ █ ██ \n",
      "█ █  █ █  █ █  █ █  █ █  █ █  █ █  █ █  █ █  █ █  \n",
      "█ ████ ████ ████ ████ ████ ████ ████ ████ ████ ███\n"
     ]
    }
   ],
   "source": [
    "pattern = [\n",
    "    \"11110\",\n",
    "    \"10010\",\n",
    "    \"10110\",\n",
    "    \"10100\",\n",
    "    \"10111\"\n",
    "]\n",
    "\n",
    "repeat_x = 10  # Количество повторений по горизонтали\n",
    "repeat_y = 3  # Количество повторений по вертикали\n",
    "block = \"\\u2588\"\n",
    "\n",
    "for _ in range(repeat_y):\n",
    "    for row in pattern:\n",
    "        print(\"\".join(block if char == \"1\" else \" \" for char in row) * repeat_x)\n"
   ]
  },
  {
   "cell_type": "markdown",
   "id": "949f6b65",
   "metadata": {},
   "source": [
    "<h3>Сгенерировать в консоли график функции (1 четверти) при помощи escape-символов, минимум 9 строк в высоту (\ty=2x+3).</h3>"
   ]
  },
  {
   "cell_type": "code",
   "execution_count": 14,
   "id": "9b6719e8",
   "metadata": {},
   "outputs": [
    {
     "name": "stdout",
     "output_type": "stream",
     "text": [
      "     |              \n",
      "     | *            \n",
      "     |              \n",
      "     |*             \n",
      "     |              \n",
      "     |              \n",
      "     |              \n",
      "    *|              \n",
      "     ---------------\n"
     ]
    }
   ],
   "source": [
    "# Размеры графика\n",
    "height = 9\n",
    "width = 20\n",
    "\n",
    "# Функция для вычисления y = 2x + 3\n",
    "def func(x):\n",
    "    return 2 * x + 3\n",
    "\n",
    "# Отображение графика\n",
    "for y in range(height-1, -1, -1):\n",
    "    line = \"\"\n",
    "    for x in range(width):\n",
    "        # Добавление оси X снизу\n",
    "        if y == 0 and x >= width // 4:\n",
    "            line += \"-\"\n",
    "        # Добавление оси Y слева\n",
    "        elif x == width // 4 and y >= 0:\n",
    "            line += \"|\"\n",
    "        # Рисуем точку функции\n",
    "        elif abs(func(x - width // 4) - y) < 0.5:  # Сдвигаем x, чтобы график был в правой верхней четверти\n",
    "            line += \"*\"\n",
    "        else:\n",
    "            line += \" \"\n",
    "    print(line)\n"
   ]
  },
  {
   "cell_type": "markdown",
   "id": "0f2430d5",
   "metadata": {},
   "source": [
    "<h3>Используя прилагаемый файл с числовой последовательностью sequence.txt, вывести диаграмму процентного соотношения согласно варианту.Сумма по модулю первых 125 чисел и вторых 125 чисел</h3>"
   ]
  },
  {
   "cell_type": "code",
   "execution_count": 16,
   "id": "a306edc8",
   "metadata": {},
   "outputs": [
    {
     "name": "stdout",
     "output_type": "stream",
     "text": [
      "Диаграмма процентного соотношения сумм:\n",
      "Первых 125 чисел: ################################################ 48.5%\n",
      "Вторых 125 чисел: ################################################### 51.5%\n"
     ]
    }
   ],
   "source": [
    "# Чтение числовой последовательности из файла\n",
    "with open(\"sequence.txt\", \"r\") as file:\n",
    "    numbers = [float(line.strip()) for line in file.readlines()]  # Используем float вместо int\n",
    "\n",
    "# Разделяем последовательность на две части\n",
    "first_125 = numbers[:125]\n",
    "second_125 = numbers[125:250]\n",
    "\n",
    "# Вычисляем сумму по модулю\n",
    "sum_first_125 = sum(abs(num) for num in first_125)\n",
    "sum_second_125 = sum(abs(num) for num in second_125)\n",
    "\n",
    "# Вычисляем процентное соотношение\n",
    "total_sum = sum_first_125 + sum_second_125\n",
    "percentage_first_125 = (sum_first_125 / total_sum) * 100\n",
    "percentage_second_125 = (sum_second_125 / total_sum) * 100\n",
    "\n",
    "# Функция для создания текстовой диаграммы\n",
    "def draw_bar(percentage, label):\n",
    "    bar_length = int(percentage)  # Длина столбца пропорциональна проценту\n",
    "    print(f\"{label}: {'#' * bar_length} {percentage:.1f}%\")\n",
    "\n",
    "# Вывод диаграммы\n",
    "print(\"Диаграмма процентного соотношения сумм:\")\n",
    "draw_bar(percentage_first_125, \"Первых 125 чисел\")\n",
    "draw_bar(percentage_second_125, \"Вторых 125 чисел\")\n"
   ]
  },
  {
   "cell_type": "code",
   "execution_count": null,
   "id": "7329d0c6",
   "metadata": {},
   "outputs": [],
   "source": []
  }
 ],
 "metadata": {
  "kernelspec": {
   "display_name": "Python 3 (ipykernel)",
   "language": "python",
   "name": "python3"
  },
  "language_info": {
   "codemirror_mode": {
    "name": "ipython",
    "version": 3
   },
   "file_extension": ".py",
   "mimetype": "text/x-python",
   "name": "python",
   "nbconvert_exporter": "python",
   "pygments_lexer": "ipython3",
   "version": "3.12.3"
  }
 },
 "nbformat": 4,
 "nbformat_minor": 5
}
