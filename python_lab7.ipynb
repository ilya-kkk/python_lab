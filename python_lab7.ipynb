{
 "cells": [
  {
   "cell_type": "markdown",
   "id": "747e4bb1",
   "metadata": {},
   "source": [
    "<h2>Лабораторная работа №7 Вариант 2</h2>"
   ]
  },
  {
   "cell_type": "markdown",
   "id": "e204d481",
   "metadata": {},
   "source": [
    "<h3>Используя сервис OpenWeatherMap, реализуйте программу, которая показывает погоду, влажность и давление в указанном городе \"city_name\" (город выбрать самостоятельно).</h3>"
   ]
  },
  {
   "cell_type": "markdown",
   "id": "5fc07c33-7e94-4cae-a4b8-443fbf85143f",
   "metadata": {},
   "source": [
    "В настоящем проекте я бы добавил .env файл в .gitignore чтобы api ключи не лежали в открытом репозитории"
   ]
  },
  {
   "cell_type": "code",
   "execution_count": 1,
   "id": "ea84757c",
   "metadata": {},
   "outputs": [
    {
     "name": "stdout",
     "output_type": "stream",
     "text": [
      "Weather in Sydney: Clear sky\n",
      "Temperature: 16.17°C\n",
      "Humidity: 83%\n",
      "Pressure: 1010 hPa\n"
     ]
    }
   ],
   "source": [
    "import requests\n",
    "import os\n",
    "from dotenv import load_dotenv\n",
    "\n",
    "load_dotenv() \n",
    "\n",
    "API_KEY = os.getenv(\"API_KEY\")\n",
    "city_name = \"Sydney\"\n",
    "\n",
    "def get_weather(city):\n",
    "    url = f\"https://api.openweathermap.org/data/2.5/weather?q={city_name}&appid={API_KEY}&units=metric\"\n",
    "    response = requests.get(url)\n",
    "\n",
    "    data = response.json()\n",
    "    temp = data[\"main\"][\"temp\"]\n",
    "    humidity = data[\"main\"][\"humidity\"]\n",
    "    pressure = data[\"main\"][\"pressure\"]\n",
    "    description = data[\"weather\"][0][\"description\"]\n",
    "        \n",
    "    print(f\"Weather in {city}: {description.capitalize()}\")\n",
    "    print(f\"Temperature: {temp}°C\")\n",
    "    print(f\"Humidity: {humidity}%\")\n",
    "    print(f\"Pressure: {pressure} hPa\")\n",
    "\n",
    "get_weather(city_name)\n"
   ]
  },
  {
   "cell_type": "markdown",
   "id": "fca13e06",
   "metadata": {},
   "source": [
    "<h3>Возьмите сайт из вашего варианта. Разберитесь, как работает его API, какие данные при помощи него можно получить. Сформируйте запрос с параметрами и получите ответ в формате .json. Возможно, потребуется библиотека json. Сделайте структурированный вывод информации (5-7 полей, форматирование на усмотрение студента).</h3>"
   ]
  },
  {
   "cell_type": "code",
   "execution_count": 2,
   "id": "2be74b44",
   "metadata": {},
   "outputs": [
    {
     "name": "stdout",
     "output_type": "stream",
     "text": [
      "Найдено новостей: 5\n",
      "Информация по новостям:\n",
      "----------------------------------------\n",
      "Источник:        IGN\n",
      "Автор:           Christian Wait\n",
      "Заголовок:       Amazon Has Pokémon TCG Surging Sparks Booster Bundles Back in Stock For a Limited Time - IGN\n",
      "Описание:        As of April 1, Pokémon TCG: Scarlet & Violet: Surging Sparks Booster Bundle is back in stock at Amazon for MSRP $45.02. It includes six booster packs, but will likely be out of stock again soon.\n",
      "URL:             https://www.ign.com/articles/pokemon-tcg-surging-sparks-booster-bundles-back-in-stock-at-amazon-new-live-updated\n",
      "Дата публикации: 2025-04-01T11:18:12Z\n",
      "----------------------------------------\n",
      "Источник:        Nintendo Life\n",
      "Автор:           Nintendo Life\n",
      "Заголовок:       Introducing PLAYi - A Whole New Way To Not Play - Nintendo Life\n",
      "Описание:        None\n",
      "URL:             https://www.nintendolife.com/news/2025/04/introducing-playi-a-whole-new-way-to-not-play\n",
      "Дата публикации: 2025-04-01T10:00:00Z\n",
      "----------------------------------------\n",
      "Источник:        The Verge\n",
      "Автор:           Jay Peters\n",
      "Заголовок:       Palworld and PUBG are getting dating sims - The Verge\n",
      "Описание:        The developers of Palworld and PUBG: Battlegrounds have announced details of dating simulators set in their universes.\n",
      "URL:             https://www.theverge.com/news/640147/palworld-pubg-dating-sims\n",
      "Дата публикации: 2025-04-01T07:00:00Z\n",
      "----------------------------------------\n",
      "Источник:        GameSpot\n",
      "Автор:           George Yang\n",
      "Заголовок:       Final Fantasy 9 Anniversary Celebration Begins, Renewing Remake Rumors - GameSpot\n",
      "Описание:        It's the 25th anniversary of Final Fantasy IX.\n",
      "URL:             https://www.gamespot.com/articles/final-fantasy-9-anniversary-website-launched-sparks-rumors/1100-6530494/\n",
      "Дата публикации: 2025-04-01T03:57:29Z\n",
      "----------------------------------------\n",
      "Источник:        TrueAchievements\n",
      "Автор:           None\n",
      "Заголовок:       Xbox sale round-up April 1, 2025 - TrueAchievements\n",
      "Описание:        New Xbox sales are now live, with big discounts on Grand Theft Auto V, Red Dead Redemption 2, Call of Duty, Batman: Arkham Knight, Back 4 Blood, Injustice 2, The Walking Dead and more\n",
      "URL:             https://www.trueachievements.com/n58792/xbox-sale-roundup-april-1-2025\n",
      "Дата публикации: 2025-04-01T00:09:48Z\n"
     ]
    }
   ],
   "source": [
    "import requests\n",
    "import json\n",
    "import os\n",
    "from dotenv import load_dotenv\n",
    "\n",
    "load_dotenv() \n",
    "\n",
    "API_KEY = os.getenv(\"API_KEY_newsapi\")\n",
    "url = \"https://newsapi.org/v2/top-headlines\"\n",
    "\n",
    "params = {\n",
    "    \"country\": \"us\",\n",
    "    \"category\": \"technology\",\n",
    "    \"pageSize\": 5,\n",
    "    \"apiKey\": API_KEY\n",
    "}\n",
    "\n",
    "response = requests.get(url, params=params)\n",
    "\n",
    "if response.status_code == 200:\n",
    "    data = response.json()\n",
    "    articles = data.get(\"articles\", [])\n",
    "    print(f\"Найдено новостей: {len(articles)}\")\n",
    "    print(\"Информация по новостям:\")\n",
    "    for article in articles:\n",
    "        print(\"-\" * 40)\n",
    "        print(\"Источник:       \", article.get(\"source\", {}).get(\"name\"))\n",
    "        print(\"Автор:          \", article.get(\"author\"))\n",
    "        print(\"Заголовок:      \", article.get(\"title\"))\n",
    "        print(\"Описание:       \", article.get(\"description\"))\n",
    "        print(\"URL:            \", article.get(\"url\"))\n",
    "        print(\"Дата публикации:\", article.get(\"publishedAt\"))\n",
    "else:\n",
    "    print(\"Ошибка:\", response.status_code)\n",
    "    print(\"Ответ:\", response.text)\n",
    "\n"
   ]
  },
  {
   "cell_type": "code",
   "execution_count": null,
   "id": "c3b3079a-5bf4-4d45-90a1-17a2fa30f2c9",
   "metadata": {},
   "outputs": [],
   "source": []
  }
 ],
 "metadata": {
  "kernelspec": {
   "display_name": "Python (myenv)",
   "language": "python",
   "name": "myenv"
  },
  "language_info": {
   "codemirror_mode": {
    "name": "ipython",
    "version": 3
   },
   "file_extension": ".py",
   "mimetype": "text/x-python",
   "name": "python",
   "nbconvert_exporter": "python",
   "pygments_lexer": "ipython3",
   "version": "3.12.3"
  }
 },
 "nbformat": 4,
 "nbformat_minor": 5
}
