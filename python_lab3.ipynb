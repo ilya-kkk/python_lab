{
 "cells": [
  {
   "cell_type": "markdown",
   "id": "15330dd3-3a5e-4dbe-a97f-b7d55a5e89fa",
   "metadata": {},
   "source": [
    "<h2>Лабораторная работа №3 Вариант2</h2>"
   ]
  },
  {
   "cell_type": "markdown",
   "id": "604aee90-9c2f-4bde-ba1a-9edbc940ab11",
   "metadata": {},
   "source": [
    "<h3>Используя tkinter, реализовать keygen - программу, генерирующую ключ для некоего абстрактного программного обеспечения (мы осуждаем пиратство) с соответствующим оформлением пользовательского интерфейса.\n",
    "\n",
    "Выберите любимую игру, найдите по ней арт или связанную картинку в поисковике.\n",
    "Реализуйте форму генератора ключа, которая должна включать в себя, как минимум, поле для генерируемого ключа, кнопку запуска, найденную картинку на фоне и поле ввода текста, если того требует вариант.\n",
    "Реализуйте генератор ключа. Ключ состоит из набора символов, состоящих из латинских букв A-Z и цифр 0-9. В зависимости от варианта может потребоваться ввод первой части ключа (указан в варианте). Ключ генерируется по некоторым правилам. В заданиях со сдвигом считать, что буквы и цифры последовательно как бы нанесены на бесконечную ленту, которую можно двигать влево и вправо.\n",
    "\n",
    "Каждый блок имеет одну цифру и три буквы в случайном порядке. Пример: AB8U-Z0MI-7FYK-K9GT\n",
    "</h3>"
   ]
  },
  {
   "cell_type": "code",
   "execution_count": 6,
   "id": "c679cb2a-cf8b-4e1c-b637-7fe65c81eca0",
   "metadata": {},
   "outputs": [],
   "source": [
    "import tkinter as tk\n",
    "from tkinter import messagebox\n",
    "import random\n",
    "import string\n",
    "from PIL import Image, ImageTk\n",
    "\n",
    "# Функция для генерации ключа\n",
    "def generate_key():\n",
    "    key = []\n",
    "    for _ in range(4):\n",
    "        # Генерация 3 случайных букв (A-Z)\n",
    "        letters = ''.join(random.choices(string.ascii_uppercase, k=3))\n",
    "        # Генерация 1 случайной цифры (0-9)\n",
    "        digit = random.choice(string.digits)\n",
    "        # Формирование блока ключа\n",
    "        key.append(f\"{letters}{digit}\")\n",
    "    \n",
    "    # Собираем ключ в нужном формате\n",
    "    key_str = \"-\".join(key)\n",
    "    key_entry.delete(0, tk.END)  # Очистка поля\n",
    "    key_entry.insert(0, key_str)  # Вставка нового ключа в поле\n",
    "\n",
    "# Создание главного окна\n",
    "root = tk.Tk()\n",
    "root.title(\"Key Generator\")\n",
    "\n",
    "# Установка размеров окна\n",
    "root.geometry(\"500x400\")\n",
    "\n",
    "# Загрузка изображения для фона (необходимо скачать картинку и указать путь к файлу)\n",
    "bg_image = Image.open(\"background.png\")  # Путь к картинке\n",
    "bg_image = bg_image.resize((500, 400))  # Подгонка под размер окна\n",
    "bg_photo = ImageTk.PhotoImage(bg_image)\n",
    "\n",
    "# Отображение картинки на фоне\n",
    "bg_label = tk.Label(root, image=bg_photo)\n",
    "bg_label.place(relwidth=1, relheight=1)\n",
    "\n",
    "# Поле для отображения генерируемого ключа\n",
    "key_entry = tk.Entry(root, font=(\"Arial\", 18), bd=5, relief=\"solid\", width=30)\n",
    "key_entry.pack(pady=50)\n",
    "\n",
    "# Кнопка для генерации ключа\n",
    "generate_button = tk.Button(root, text=\"Generate Key\", font=(\"Arial\", 14), command=generate_key, bg=\"#4CAF50\", fg=\"white\", bd=5, relief=\"solid\")\n",
    "generate_button.pack(pady=10)\n",
    "\n",
    "# Запуск приложения\n",
    "root.mainloop()\n"
   ]
  }
 ],
 "metadata": {
  "kernelspec": {
   "display_name": "Python (myenv)",
   "language": "python",
   "name": "myenv"
  },
  "language_info": {
   "codemirror_mode": {
    "name": "ipython",
    "version": 3
   },
   "file_extension": ".py",
   "mimetype": "text/x-python",
   "name": "python",
   "nbconvert_exporter": "python",
   "pygments_lexer": "ipython3",
   "version": "3.12.3"
  }
 },
 "nbformat": 4,
 "nbformat_minor": 5
}
